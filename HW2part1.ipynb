{
  "nbformat": 4,
  "nbformat_minor": 0,
  "metadata": {
    "colab": {
      "name": "HW2part1.ipynb",
      "provenance": [],
      "include_colab_link": true
    },
    "kernelspec": {
      "name": "python3",
      "display_name": "Python 3"
    }
  },
  "cells": [
    {
      "cell_type": "markdown",
      "metadata": {
        "id": "view-in-github",
        "colab_type": "text"
      },
      "source": [
        "<a href=\"https://colab.research.google.com/github/RyomaBF/CAP4630/blob/master/HW2part1.ipynb\" target=\"_parent\"><img src=\"https://colab.research.google.com/assets/colab-badge.svg\" alt=\"Open In Colab\"/></a>"
      ]
    },
    {
      "cell_type": "code",
      "metadata": {
        "id": "qckzx6BycCo4",
        "colab_type": "code",
        "colab": {}
      },
      "source": [
        "import tensorflow as tf\n",
        "from keras import models\n",
        "from keras import layers\n",
        "import numpy as np\n",
        "import matplotlib.pyplot as plt"
      ],
      "execution_count": 0,
      "outputs": []
    },
    {
      "cell_type": "code",
      "metadata": {
        "id": "21lDnZYOhl2H",
        "colab_type": "code",
        "colab": {}
      },
      "source": [
        "mnist = tf.keras.datasets.mnist"
      ],
      "execution_count": 0,
      "outputs": []
    },
    {
      "cell_type": "code",
      "metadata": {
        "id": "iGsdOI5khnXe",
        "colab_type": "code",
        "colab": {}
      },
      "source": [
        "(train_images_original, train_labels_original), (test_images_original, test_labels_original) = mnist.load_data()"
      ],
      "execution_count": 0,
      "outputs": []
    },
    {
      "cell_type": "code",
      "metadata": {
        "id": "gFS2cX46hpWT",
        "colab_type": "code",
        "colab": {}
      },
      "source": [
        "train_images = train_images_original.reshape((60000, 28 * 28))\n",
        "test_images = test_images_original.reshape((10000, 28 * 28))"
      ],
      "execution_count": 0,
      "outputs": []
    },
    {
      "cell_type": "code",
      "metadata": {
        "id": "K3jqZw1nhq30",
        "colab_type": "code",
        "colab": {}
      },
      "source": [
        "train_images = train_images.astype('float32') / 255\n",
        "test_images = test_images.astype('float32') / 255"
      ],
      "execution_count": 0,
      "outputs": []
    },
    {
      "cell_type": "code",
      "metadata": {
        "id": "JKwyTLEkhtVX",
        "colab_type": "code",
        "colab": {}
      },
      "source": [
        "(img_count, col_size, rows_size) = train_images_original.shape\n",
        "\n",
        "(img_index, col_of_positives, rows_of_positives)= np.where(train_images_original > 0)\n"
      ],
      "execution_count": 0,
      "outputs": []
    },
    {
      "cell_type": "markdown",
      "metadata": {
        "id": "CfDZWlFCqgNT",
        "colab_type": "text"
      },
      "source": [
        "Below is extracting features from the train dataset"
      ]
    },
    {
      "cell_type": "code",
      "metadata": {
        "id": "jsofZjX1hzzN",
        "colab_type": "code",
        "colab": {}
      },
      "source": [
        "train_height = np.array([])\n",
        "train_width = np.array([])"
      ],
      "execution_count": 0,
      "outputs": []
    },
    {
      "cell_type": "code",
      "metadata": {
        "id": "Rlk0MxDeh84K",
        "colab_type": "code",
        "colab": {}
      },
      "source": [
        "offset = img_index[1:]\n",
        "offset = np.append(offset, img_index[0])\n",
        "last = np.where(img_index != offset)[0]\n",
        "\n",
        "offset = img_index[-1]\n",
        "offset = np.append(offset, img_index[:-1])\n",
        "first = np.where(img_index != offset)[0]"
      ],
      "execution_count": 0,
      "outputs": []
    },
    {
      "cell_type": "code",
      "metadata": {
        "id": "yr14Cj5EprDG",
        "colab_type": "code",
        "colab": {}
      },
      "source": [
        "train_height = abs(col_of_positives[last] - col_of_positives[first]) + 1\n",
        "train_width = abs(rows_of_positives[last] - rows_of_positives[first]) + 1"
      ],
      "execution_count": 0,
      "outputs": []
    },
    {
      "cell_type": "code",
      "metadata": {
        "id": "JHTVrDwvjLfp",
        "colab_type": "code",
        "colab": {}
      },
      "source": [
        "#reshaping the vectors\n",
        "train_height = train_height.reshape(img_count, 1)\n",
        "train_width = train_width.reshape(img_count, 1)"
      ],
      "execution_count": 0,
      "outputs": []
    },
    {
      "cell_type": "code",
      "metadata": {
        "id": "Y6f5xysEjQry",
        "colab_type": "code",
        "colab": {}
      },
      "source": [
        "#making sure the data is between 0 to 1\n",
        "train_height = train_height.astype('float32') / col_size\n",
        "train_width = train_width.astype('float32') / rows_size\n"
      ],
      "execution_count": 0,
      "outputs": []
    },
    {
      "cell_type": "code",
      "metadata": {
        "id": "3XvzLxsXj3ez",
        "colab_type": "code",
        "colab": {
          "base_uri": "https://localhost:8080/",
          "height": 85
        },
        "outputId": "1f574230-285e-4554-c06e-2ddda8451fbb"
      },
      "source": [
        "print(\"Max height value is\",  np.max(train_height, axis=0))\n",
        "print(\"Min height value is\", np.min(train_height, axis=0))\n",
        "print(\"Max width value is\", np.max(train_width, axis=0))\n",
        "print(\"MIn width value is\", np.min(train_width, axis=0))"
      ],
      "execution_count": 84,
      "outputs": [
        {
          "output_type": "stream",
          "text": [
            "Max height value is [0.71428573]\n",
            "Min height value is [0.32142857]\n",
            "Max width value is [0.71428573]\n",
            "MIn width value is [0.03571429]\n"
          ],
          "name": "stdout"
        }
      ]
    },
    {
      "cell_type": "markdown",
      "metadata": {
        "id": "MG_F-ga9qnD4",
        "colab_type": "text"
      },
      "source": [
        "Below is extracting features from the train dataset"
      ]
    },
    {
      "cell_type": "code",
      "metadata": {
        "id": "9Qa6y-Mbqogn",
        "colab_type": "code",
        "colab": {}
      },
      "source": [
        "(img_count, col_size, rows_size) = test_images_original.shape\n",
        "\n",
        "(img_index, col_of_positives, rows_of_positives)= np.where(test_images_original > 0)"
      ],
      "execution_count": 0,
      "outputs": []
    },
    {
      "cell_type": "code",
      "metadata": {
        "id": "mbBUcwd_q7wr",
        "colab_type": "code",
        "colab": {}
      },
      "source": [
        "test_height = np.array([])\n",
        "test_width = np.array([])"
      ],
      "execution_count": 0,
      "outputs": []
    },
    {
      "cell_type": "code",
      "metadata": {
        "id": "sfAyXlogq-Ob",
        "colab_type": "code",
        "colab": {}
      },
      "source": [
        "offset = img_index[1:]\n",
        "offset = np.append(offset, img_index[0])\n",
        "last = np.where(img_index != offset)[0]"
      ],
      "execution_count": 0,
      "outputs": []
    },
    {
      "cell_type": "code",
      "metadata": {
        "id": "thyS-m_lrAFB",
        "colab_type": "code",
        "colab": {}
      },
      "source": [
        "offset = img_index[-1]\n",
        "offset = np.append(offset, img_index[:-1])\n",
        "first = np.where(img_index != offset)[0]"
      ],
      "execution_count": 0,
      "outputs": []
    },
    {
      "cell_type": "code",
      "metadata": {
        "id": "FVf-Y91UrCC8",
        "colab_type": "code",
        "colab": {}
      },
      "source": [
        "test_height = abs(col_of_positives[last] - col_of_positives[first]) + 1\n",
        "test_width = abs(rows_of_positives[last] - rows_of_positives[first]) + 1"
      ],
      "execution_count": 0,
      "outputs": []
    },
    {
      "cell_type": "code",
      "metadata": {
        "id": "99AY6GoHrDaC",
        "colab_type": "code",
        "colab": {}
      },
      "source": [
        "test_height = test_height.reshape(img_count, 1)\n",
        "test_width = test_width.reshape(img_count, 1)"
      ],
      "execution_count": 0,
      "outputs": []
    },
    {
      "cell_type": "code",
      "metadata": {
        "id": "muBFUneirE0w",
        "colab_type": "code",
        "colab": {}
      },
      "source": [
        "test_height = test_height.astype('float32') / col_size\n",
        "test_width = test_width.astype('float32') / rows_size"
      ],
      "execution_count": 0,
      "outputs": []
    },
    {
      "cell_type": "code",
      "metadata": {
        "id": "9nD1rH4brJZF",
        "colab_type": "code",
        "colab": {
          "base_uri": "https://localhost:8080/",
          "height": 85
        },
        "outputId": "3d527404-4ce5-45aa-fb2c-152de5489509"
      },
      "source": [
        "print(\"Max height value is\",  np.max(test_height, axis=0))\n",
        "print(\"Min height value is\", np.min(test_height, axis=0))\n",
        "print(\"Max width value is\", np.max(test_width, axis=0))\n",
        "print(\"MIn width value is\", np.min(test_width, axis=0))"
      ],
      "execution_count": 92,
      "outputs": [
        {
          "output_type": "stream",
          "text": [
            "Max height value is [0.71428573]\n",
            "Min height value is [0.35714287]\n",
            "Max width value is [0.71428573]\n",
            "MIn width value is [0.03571429]\n"
          ],
          "name": "stdout"
        }
      ]
    },
    {
      "cell_type": "code",
      "metadata": {
        "id": "peZQSx19rYjp",
        "colab_type": "code",
        "colab": {}
      },
      "source": [
        "train_images = np.concatenate((train_images, train_height), axis = 1)\n",
        "train_images = np.concatenate((train_images, train_width), axis = 1)\n",
        "\n",
        "test_images = np.concatenate((test_images, test_height), axis = 1)\n",
        "test_images = np.concatenate((test_images, test_width), axis = 1)"
      ],
      "execution_count": 0,
      "outputs": []
    },
    {
      "cell_type": "code",
      "metadata": {
        "id": "pwKd8zxerdqh",
        "colab_type": "code",
        "colab": {}
      },
      "source": [
        "from keras.utils import to_categorical\n",
        "\n",
        "train_labels = to_categorical(train_labels_original)\n",
        "test_labels = to_categorical(test_labels_original)"
      ],
      "execution_count": 0,
      "outputs": []
    },
    {
      "cell_type": "code",
      "metadata": {
        "id": "tlsV5dVtrgVU",
        "colab_type": "code",
        "colab": {
          "base_uri": "https://localhost:8080/",
          "height": 343
        },
        "outputId": "991e7559-0526-4181-a0eb-97868ddfe6a8"
      },
      "source": [
        "model = models.Sequential()\n",
        "\n",
        "model.add(layers.Dense(512, activation = tf.nn.relu, input_shape=(28 * 28 + 2,)))\n",
        "model.add(layers.Dense(10, activation = tf.nn.softmax))\n",
        "model.summary()"
      ],
      "execution_count": 95,
      "outputs": [
        {
          "output_type": "stream",
          "text": [
            "WARNING:tensorflow:From /usr/local/lib/python3.6/dist-packages/keras/backend/tensorflow_backend.py:66: The name tf.get_default_graph is deprecated. Please use tf.compat.v1.get_default_graph instead.\n",
            "\n",
            "WARNING:tensorflow:From /usr/local/lib/python3.6/dist-packages/keras/backend/tensorflow_backend.py:541: The name tf.placeholder is deprecated. Please use tf.compat.v1.placeholder instead.\n",
            "\n",
            "WARNING:tensorflow:From /usr/local/lib/python3.6/dist-packages/keras/backend/tensorflow_backend.py:4432: The name tf.random_uniform is deprecated. Please use tf.random.uniform instead.\n",
            "\n",
            "Model: \"sequential_1\"\n",
            "_________________________________________________________________\n",
            "Layer (type)                 Output Shape              Param #   \n",
            "=================================================================\n",
            "dense_1 (Dense)              (None, 512)               402944    \n",
            "_________________________________________________________________\n",
            "dense_2 (Dense)              (None, 10)                5130      \n",
            "=================================================================\n",
            "Total params: 408,074\n",
            "Trainable params: 408,074\n",
            "Non-trainable params: 0\n",
            "_________________________________________________________________\n"
          ],
          "name": "stdout"
        }
      ]
    },
    {
      "cell_type": "code",
      "metadata": {
        "id": "bTEdpWacrmYJ",
        "colab_type": "code",
        "colab": {
          "base_uri": "https://localhost:8080/",
          "height": 105
        },
        "outputId": "15890186-2aaf-4833-f9ca-dc4a1a60f60c"
      },
      "source": [
        "model.compile( optimizer='rmsprop', \n",
        "              loss='categorical_crossentropy', \n",
        "              metrics=['accuracy'])"
      ],
      "execution_count": 96,
      "outputs": [
        {
          "output_type": "stream",
          "text": [
            "WARNING:tensorflow:From /usr/local/lib/python3.6/dist-packages/keras/optimizers.py:793: The name tf.train.Optimizer is deprecated. Please use tf.compat.v1.train.Optimizer instead.\n",
            "\n",
            "WARNING:tensorflow:From /usr/local/lib/python3.6/dist-packages/keras/backend/tensorflow_backend.py:3576: The name tf.log is deprecated. Please use tf.math.log instead.\n",
            "\n"
          ],
          "name": "stdout"
        }
      ]
    },
    {
      "cell_type": "code",
      "metadata": {
        "id": "ymP1fuQirsYu",
        "colab_type": "code",
        "colab": {
          "base_uri": "https://localhost:8080/",
          "height": 717
        },
        "outputId": "a5ccf41e-553b-453b-9b18-1298d6af8c89"
      },
      "source": [
        "#Set number of epochs\n",
        "epochs = 10\n",
        "\n",
        "history = model.fit(train_images, \n",
        "                    train_labels, \n",
        "                    epochs = epochs,\n",
        "                    batch_size=128, \n",
        "                    validation_data=(test_images, test_labels))"
      ],
      "execution_count": 97,
      "outputs": [
        {
          "output_type": "stream",
          "text": [
            "WARNING:tensorflow:From /usr/local/lib/python3.6/dist-packages/tensorflow_core/python/ops/math_grad.py:1424: where (from tensorflow.python.ops.array_ops) is deprecated and will be removed in a future version.\n",
            "Instructions for updating:\n",
            "Use tf.where in 2.0, which has the same broadcast rule as np.where\n",
            "WARNING:tensorflow:From /usr/local/lib/python3.6/dist-packages/keras/backend/tensorflow_backend.py:1033: The name tf.assign_add is deprecated. Please use tf.compat.v1.assign_add instead.\n",
            "\n",
            "WARNING:tensorflow:From /usr/local/lib/python3.6/dist-packages/keras/backend/tensorflow_backend.py:1020: The name tf.assign is deprecated. Please use tf.compat.v1.assign instead.\n",
            "\n",
            "WARNING:tensorflow:From /usr/local/lib/python3.6/dist-packages/keras/backend/tensorflow_backend.py:3005: The name tf.Session is deprecated. Please use tf.compat.v1.Session instead.\n",
            "\n",
            "Train on 60000 samples, validate on 10000 samples\n",
            "Epoch 1/10\n",
            "WARNING:tensorflow:From /usr/local/lib/python3.6/dist-packages/keras/backend/tensorflow_backend.py:190: The name tf.get_default_session is deprecated. Please use tf.compat.v1.get_default_session instead.\n",
            "\n",
            "WARNING:tensorflow:From /usr/local/lib/python3.6/dist-packages/keras/backend/tensorflow_backend.py:197: The name tf.ConfigProto is deprecated. Please use tf.compat.v1.ConfigProto instead.\n",
            "\n",
            "WARNING:tensorflow:From /usr/local/lib/python3.6/dist-packages/keras/backend/tensorflow_backend.py:207: The name tf.global_variables is deprecated. Please use tf.compat.v1.global_variables instead.\n",
            "\n",
            "WARNING:tensorflow:From /usr/local/lib/python3.6/dist-packages/keras/backend/tensorflow_backend.py:216: The name tf.is_variable_initialized is deprecated. Please use tf.compat.v1.is_variable_initialized instead.\n",
            "\n",
            "WARNING:tensorflow:From /usr/local/lib/python3.6/dist-packages/keras/backend/tensorflow_backend.py:223: The name tf.variables_initializer is deprecated. Please use tf.compat.v1.variables_initializer instead.\n",
            "\n",
            "60000/60000 [==============================] - 6s 96us/step - loss: 0.2580 - acc: 0.9259 - val_loss: 0.1411 - val_acc: 0.9586\n",
            "Epoch 2/10\n",
            "60000/60000 [==============================] - 5s 83us/step - loss: 0.1069 - acc: 0.9683 - val_loss: 0.0976 - val_acc: 0.9693\n",
            "Epoch 3/10\n",
            "60000/60000 [==============================] - 5s 83us/step - loss: 0.0705 - acc: 0.9790 - val_loss: 0.0731 - val_acc: 0.9772\n",
            "Epoch 4/10\n",
            "60000/60000 [==============================] - 5s 80us/step - loss: 0.0525 - acc: 0.9838 - val_loss: 0.0669 - val_acc: 0.9809\n",
            "Epoch 5/10\n",
            "60000/60000 [==============================] - 5s 80us/step - loss: 0.0394 - acc: 0.9881 - val_loss: 0.0694 - val_acc: 0.9792\n",
            "Epoch 6/10\n",
            "60000/60000 [==============================] - 5s 82us/step - loss: 0.0295 - acc: 0.9915 - val_loss: 0.0728 - val_acc: 0.9780\n",
            "Epoch 7/10\n",
            "60000/60000 [==============================] - 5s 83us/step - loss: 0.0240 - acc: 0.9929 - val_loss: 0.0613 - val_acc: 0.9821\n",
            "Epoch 8/10\n",
            "60000/60000 [==============================] - 5s 84us/step - loss: 0.0185 - acc: 0.9942 - val_loss: 0.0657 - val_acc: 0.9805\n",
            "Epoch 9/10\n",
            "60000/60000 [==============================] - 5s 83us/step - loss: 0.0143 - acc: 0.9956 - val_loss: 0.0684 - val_acc: 0.9809\n",
            "Epoch 10/10\n",
            "60000/60000 [==============================] - 5s 79us/step - loss: 0.0115 - acc: 0.9968 - val_loss: 0.0665 - val_acc: 0.9819\n"
          ],
          "name": "stdout"
        }
      ]
    },
    {
      "cell_type": "code",
      "metadata": {
        "id": "tFGWUgaNryvb",
        "colab_type": "code",
        "colab": {}
      },
      "source": [
        "history_dict = history.history\n",
        "loss_values = history_dict['loss']\n",
        "test_loss_values = history_dict['val_loss']\n",
        "epochs_range = range(1, epochs + 1)"
      ],
      "execution_count": 0,
      "outputs": []
    },
    {
      "cell_type": "code",
      "metadata": {
        "id": "LLrd54YbrzJa",
        "colab_type": "code",
        "colab": {
          "base_uri": "https://localhost:8080/",
          "height": 295
        },
        "outputId": "31ee0f83-dcd1-408f-9de4-063941115aad"
      },
      "source": [
        "plt.plot(epochs_range, loss_values, 'bo', label='Training loss')\n",
        "plt.plot(epochs_range, test_loss_values, 'ro', label='Test loss')\n",
        "plt.title('Training and test loss')\n",
        "plt.xlabel('Epochs')\n",
        "plt.ylabel('Loss')\n",
        "plt.legend()\n",
        "plt.show()"
      ],
      "execution_count": 99,
      "outputs": [
        {
          "output_type": "display_data",
          "data": {
            "image/png": "[encoded data removed]",
            "text/plain": [
              "<Figure size 432x288 with 1 Axes>"
            ]
          },
          "metadata": {
            "tags": []
          }
        }
      ]
    },
    {
      "cell_type": "code",
      "metadata": {
        "id": "wyROUMACrzQw",
        "colab_type": "code",
        "colab": {}
      },
      "source": [
        "acc_values = history_dict['acc']\n",
        "test_acc_values = history_dict['val_acc']"
      ],
      "execution_count": 0,
      "outputs": []
    },
    {
      "cell_type": "code",
      "metadata": {
        "id": "5xcu9MTfrzWP",
        "colab_type": "code",
        "colab": {
          "base_uri": "https://localhost:8080/",
          "height": 295
        },
        "outputId": "49b8da6b-6912-4da0-fd7d-2e5200be9bba"
      },
      "source": [
        "plt.plot(epochs_range, acc_values, 'bo', label='Training accuracy')\n",
        "plt.plot(epochs_range, test_acc_values, 'ro', label='Test accuracy')\n",
        "plt.title('Training and test accuracy')\n",
        "plt.xlabel('Epochs')\n",
        "plt.ylabel('Accuracy')\n",
        "plt.legend()\n",
        "plt.show()"
      ],
      "execution_count": 101,
      "outputs": [
        {
          "output_type": "display_data",
          "data": {
            "image/png": "[encoded data removed]",
            "text/plain": [
              "<Figure size 432x288 with 1 Axes>"
            ]
          },
          "metadata": {
            "tags": []
          }
        }
      ]
    }
  ]
}